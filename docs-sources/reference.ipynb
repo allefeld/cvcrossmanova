{
  "cells": [
    {
      "cell_type": "raw",
      "metadata": {},
      "source": [
        "---\n",
        "title: Reference documentation\n",
        "author: Carsten Allefeld\n",
        "date: 2023-3-23\n",
        "keep-md: true\n",
        "keep-ipynb: true\n",
        "---"
      ],
      "id": "fbf34464"
    },
    {
      "cell_type": "code",
      "metadata": {},
      "source": [
        "%| output: asis\n",
        "%| echo: false\n",
        "clear all\n",
        "names = {\n",
        "    \"cvCrossManovaSearchlight\",\n",
        "    \"cvCrossManovaRegion\",\n",
        "    \"Analysis\",\n",
        "    \"CvCrossManova\"\n",
        "};\n",
        "help2markdown(names)"
      ],
      "id": "4d06fcec",
      "execution_count": null,
      "outputs": []
    }
  ],
  "metadata": {
    "kernelspec": {
      "name": "matlab",
      "language": "matlab",
      "display_name": "Matlab"
    }
  },
  "nbformat": 4,
  "nbformat_minor": 5
}