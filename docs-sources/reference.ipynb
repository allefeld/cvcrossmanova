{
 "cells": [
  {
   "cell_type": "raw",
   "id": "83804b2a",
   "metadata": {},
   "source": [
    "---\n",
    "title: Reference documentation\n",
    "author: Carsten Allefeld\n",
    "date: 2023-3-23\n",
    "keep-md: true\n",
    "keep-ipynb: true\n",
    "---"
   ]
  },
  {
   "cell_type": "code",
   "execution_count": 1,
   "id": "e2556a7d",
   "metadata": {},
   "outputs": [
    {
     "name": "stdout",
     "output_type": "stream",
     "text": [
      "\n",
      "## [function]{.smallcaps} cvCrossManovaSearchlight\n",
      "\n"
     ]
    },
    {
     "name": "stdout",
     "output_type": "stream",
     "text": [
      "cross-validated (cross-) MANOVA on searchlight\n",
      "\n"
     ]
    },
    {
     "name": "stdout",
     "output_type": "stream",
     "text": [
      "```matlab\n",
      "cvCrossManovaSearchlight(dirName, slRadius, Cs, permute = false, lambda = 0)\n",
      "```\n",
      "\n"
     ]
    },
    {
     "name": "stdout",
     "output_type": "stream",
     "text": [
      "----------  ---------------------------------------------------------------------------\n",
      "`dirName`   directory where the SPM.mat file referring to an estimated model is located\n",
      "`slRadius`  radius of the searchlight sphere in voxels\n",
      "`analyses`  cell array of analysis specifications\n",
      "`permute`   whether to compute permutation values\n",
      "`lambda`    regularization parameter (0&#x2013;1)\n",
      "----------  ---------------------------------------------------------------------------\n",
      "\n",
      "Output files are written to the same directory:\n",
      "\n",
      "-----------------------  --------------------------------------------------------------------------------------------\n",
      "`spmD_C####_P####.nii`   images of the pattern discriminability D, contrast and permutation are identified by numbers\n",
      "`spmDs_C####_P####.nii`  images of standardized pattern discriminability D~s~\n",
      "`VPSL.nii`               image of the number of voxels for each searchlight\n",
      "`cmsParameters.mat`      record of the analysis parameters\n",
      "-----------------------  -------------------------------"
     ]
    },
    {
     "name": "stdout",
     "output_type": "stream",
     "text": [
      "-------------------------------------------------------------\n",
      "\n",
      "\n"
     ]
    },
    {
     "name": "stdout",
     "output_type": "stream",
     "text": [
      "\n",
      "## [function]{.smallcaps} cvCrossManovaRegion\n",
      "\n"
     ]
    },
    {
     "name": "stdout",
     "output_type": "stream",
     "text": [
      "cross-validated MANOVA on region\n",
      "\n"
     ]
    },
    {
     "name": "stdout",
     "output_type": "stream",
     "text": [
      "```matlab\n",
      "[D, p] = cvCrossManovaRegion(dirName, regions, analyses, permute = false, lambda = 0)\n",
      "```\n",
      "\n"
     ]
    },
    {
     "name": "stdout",
     "output_type": "stream",
     "text": [
      "----------  ---------------------------------------------------------------------------\n",
      "`dirName`   directory where the SPM.mat file referring to an estimated model is located\n",
      "`regions`   region mask(s), (cell array of) logical 3D volume(s) or filename(s)\n",
      "`analyses`  cell array of analysis specifications\n",
      "`lambda`    regularization parameter (0&#x2013;1)\n",
      "`permute`   whether to compute permutation values\n",
      "`D`         pattern distinctness, contrasts &#xD7; permutations &#xD7; regions\n",
      "`p`         number of voxels in the region(s)\n",
      "----------  -----------------------------------------------------------------\n",
      "\n",
      "\n"
     ]
    },
    {
     "name": "stdout",
     "output_type": "stream",
     "text": [
      "\n",
      "## [class]{.smallcaps} Analysis\n",
      "\n"
     ]
    },
    {
     "name": "stdout",
     "output_type": "stream",
     "text": [
      "object representing an analysis\n",
      "\n"
     ]
    },
    {
     "name": "stdout",
     "output_type": "stream",
     "text": [
      "```matlab\n",
      "Analysis(CA, CB, sessionsA, sessionsB)\n",
      "```\n",
      "\n"
     ]
    },
    {
     "name": "stdout",
     "output_type": "stream",
     "text": [
      "\n",
      "## [class]{.smallcaps} CvCrossManova\n",
      "\n"
     ]
    },
    {
     "name": "stderr",
     "output_type": "stream",
     "text": [
      "\u001b[0;31mIndex exceeds the number of array elements. Index must not exceed 1.\n",
      "Error in help2markdown (line 45)\n",
      "    syntax = helpText{2};\n",
      "\u001b[0m"
     ]
    }
   ],
   "source": [
    "%| output: asis\n",
    "%| echo: false\n",
    "clear all\n",
    "names = {\n",
    "    \"cvCrossManovaSearchlight\",\n",
    "    \"cvCrossManovaRegion\",\n",
    "    \"Analysis\",\n",
    "    \"CvCrossManova\"\n",
    "};\n",
    "help2markdown(names)"
   ]
  }
 ],
 "metadata": {
  "kernelspec": {
   "display_name": "Matlab",
   "language": "matlab",
   "name": "matlab"
  },
  "language_info": {
   "codemirror_mode": "octave",
   "file_extension": ".m",
   "help_links": [
    {
     "text": "MetaKernel Magics",
     "url": "https://metakernel.readthedocs.io/en/latest/source/README.html"
    }
   ],
   "mimetype": "text/x-octave",
   "name": "matlab",
   "version": "0.17.1"
  }
 },
 "nbformat": 4,
 "nbformat_minor": 5
}
